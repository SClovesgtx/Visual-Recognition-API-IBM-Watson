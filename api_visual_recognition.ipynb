{
 "cells": [
  {
   "cell_type": "code",
   "execution_count": 1,
   "metadata": {},
   "outputs": [],
   "source": [
    "import json\n",
    "from watson_developer_cloud import VisualRecognitionV3"
   ]
  },
  {
   "cell_type": "code",
   "execution_count": 2,
   "metadata": {},
   "outputs": [],
   "source": [
    "apikey = 'cd_doX1xtfEUI1xTN8Hp6EnA5rDrzFwBXZ2NOobF_fch'\n",
    "URL = 'https://gateway.watsonplatform.net/visual-recognition/api'"
   ]
  },
  {
   "cell_type": "code",
   "execution_count": 3,
   "metadata": {},
   "outputs": [],
   "source": [
    "visual_recognition = VisualRecognitionV3(\n",
    "    '2018-03-19',\n",
    "    iam_apikey=apikey)"
   ]
  },
  {
   "cell_type": "markdown",
   "metadata": {},
   "source": [
    "# Treinando modelo customizado"
   ]
  },
  {
   "cell_type": "code",
   "execution_count": 10,
   "metadata": {},
   "outputs": [
    {
     "name": "stdout",
     "output_type": "stream",
     "text": [
      "{\n",
      "  \"classifier_id\": \"pictogramas_1871848490\",\n",
      "  \"name\": \"pictogramas\",\n",
      "  \"status\": \"training\",\n",
      "  \"owner\": \"9214992a-7691-4d57-9271-5165978c9684\",\n",
      "  \"created\": \"2018-11-16T17:04:22.220Z\",\n",
      "  \"updated\": \"2018-11-16T17:04:22.220Z\",\n",
      "  \"classes\": [\n",
      "    {\n",
      "      \"class\": \"luvas\"\n",
      "    },\n",
      "    {\n",
      "      \"class\": \"cuidadoVeneno\"\n",
      "    }\n",
      "  ],\n",
      "  \"core_ml_enabled\": true\n",
      "}\n"
     ]
    }
   ],
   "source": [
    "with open('classes/cuidadoVeneno.zip', 'rb') as cuidadoVeneno, \\\n",
    "open('classes/luvas.zip', 'rb') as luvas, \\\n",
    "open('classes/contraExemploCuidado.zip', 'rb') as contraExemploCuidado, \\\n",
    "open('classes/contraExemploLuvas.zip', 'rb') as contraExemploLuvas:\n",
    "    \n",
    "    model = visual_recognition.create_classifier(\n",
    "        'pictogramas',\n",
    "        cuidadoVeneno_positive_examples = cuidadoVeneno,\n",
    "        luvas_positive_examples = luvas,\n",
    "        cuidadoVeneno_negative_examples = contraExemploCuidado,\n",
    "        luvas_negative_examples = contraExemploLuvas).get_result()\n",
    "    \n",
    "print(json.dumps(model, indent=2))"
   ]
  },
  {
   "cell_type": "code",
   "execution_count": 14,
   "metadata": {},
   "outputs": [
    {
     "name": "stdout",
     "output_type": "stream",
     "text": [
      "{\n",
      "  \"classifiers\": [\n",
      "    {\n",
      "      \"classifier_id\": \"pictogramas_1871848490\",\n",
      "      \"name\": \"pictogramas\",\n",
      "      \"status\": \"ready\",\n",
      "      \"owner\": \"9214992a-7691-4d57-9271-5165978c9684\",\n",
      "      \"created\": \"2018-11-16T17:04:22.220Z\",\n",
      "      \"updated\": \"2018-11-16T17:04:22.220Z\",\n",
      "      \"classes\": [\n",
      "        {\n",
      "          \"class\": \"luvas\"\n",
      "        },\n",
      "        {\n",
      "          \"class\": \"cuidadoVeneno\"\n",
      "        }\n",
      "      ],\n",
      "      \"core_ml_enabled\": true\n",
      "    }\n",
      "  ]\n",
      "}\n"
     ]
    }
   ],
   "source": [
    "classifiers = visual_recognition.list_classifiers(verbose=True).get_result()\n",
    "print(json.dumps(classifiers, indent=2))"
   ]
  },
  {
   "cell_type": "markdown",
   "metadata": {},
   "source": [
    "# Testando o modelo"
   ]
  },
  {
   "cell_type": "markdown",
   "metadata": {},
   "source": [
    "<img src='classes/imagensTeste/1.jpg'>"
   ]
  },
  {
   "cell_type": "code",
   "execution_count": 20,
   "metadata": {},
   "outputs": [
    {
     "name": "stdout",
     "output_type": "stream",
     "text": [
      "{\n",
      "  \"images\": [\n",
      "    {\n",
      "      \"classifiers\": [\n",
      "        {\n",
      "          \"classifier_id\": \"pictogramas_1871848490\",\n",
      "          \"name\": \"pictogramas\",\n",
      "          \"classes\": [\n",
      "            {\n",
      "              \"class\": \"cuidadoVeneno\",\n",
      "              \"score\": 0.9\n",
      "            }\n",
      "          ]\n",
      "        }\n",
      "      ],\n",
      "      \"image\": \"1.jpg\"\n",
      "    }\n",
      "  ],\n",
      "  \"images_processed\": 1,\n",
      "  \"custom_classes\": 2\n",
      "}\n"
     ]
    }
   ],
   "source": [
    "# testando, classificando imagens\n",
    "with open('classes/imagensTeste/1.jpg', 'rb') as images_file:\n",
    "    classes = visual_recognition.classify(\n",
    "        images_file,\n",
    "        threshold='0.5',\n",
    "        owners=[\"me\"],\n",
    "        classifier_ids=[\"pictogramas_1871848490\"]).get_result()\n",
    "    print(json.dumps(classes, indent=2))"
   ]
  },
  {
   "cell_type": "markdown",
   "metadata": {},
   "source": [
    "<img src='classes/imagensTeste/2.jpg'>"
   ]
  },
  {
   "cell_type": "code",
   "execution_count": 21,
   "metadata": {},
   "outputs": [
    {
     "name": "stdout",
     "output_type": "stream",
     "text": [
      "{\n",
      "  \"images\": [\n",
      "    {\n",
      "      \"classifiers\": [\n",
      "        {\n",
      "          \"classifier_id\": \"pictogramas_1871848490\",\n",
      "          \"name\": \"pictogramas\",\n",
      "          \"classes\": [\n",
      "            {\n",
      "              \"class\": \"cuidadoVeneno\",\n",
      "              \"score\": 0.92\n",
      "            }\n",
      "          ]\n",
      "        }\n",
      "      ],\n",
      "      \"image\": \"2.jpg\"\n",
      "    }\n",
      "  ],\n",
      "  \"images_processed\": 1,\n",
      "  \"custom_classes\": 2\n",
      "}\n"
     ]
    }
   ],
   "source": [
    "with open('classes/imagensTeste/2.jpg', 'rb') as images_file:\n",
    "    classes = visual_recognition.classify(\n",
    "        images_file,\n",
    "        threshold='0.5',\n",
    "        owners=[\"me\"],\n",
    "        classifier_ids=[\"pictogramas_1871848490\"]).get_result()\n",
    "    print(json.dumps(classes, indent=2))"
   ]
  },
  {
   "cell_type": "markdown",
   "metadata": {},
   "source": [
    "<img src='classes/imagensTeste/3.png'>"
   ]
  },
  {
   "cell_type": "code",
   "execution_count": 23,
   "metadata": {},
   "outputs": [
    {
     "name": "stdout",
     "output_type": "stream",
     "text": [
      "{\n",
      "  \"images\": [\n",
      "    {\n",
      "      \"classifiers\": [\n",
      "        {\n",
      "          \"classifier_id\": \"pictogramas_1871848490\",\n",
      "          \"name\": \"pictogramas\",\n",
      "          \"classes\": [\n",
      "            {\n",
      "              \"class\": \"cuidadoVeneno\",\n",
      "              \"score\": 0.763\n",
      "            },\n",
      "            {\n",
      "              \"class\": \"luvas\",\n",
      "              \"score\": 0.528\n",
      "            }\n",
      "          ]\n",
      "        }\n",
      "      ],\n",
      "      \"image\": \"3.png\"\n",
      "    }\n",
      "  ],\n",
      "  \"images_processed\": 1,\n",
      "  \"custom_classes\": 2\n",
      "}\n"
     ]
    }
   ],
   "source": [
    "with open('classes/imagensTeste/3.png', 'rb') as images_file:\n",
    "    classes = visual_recognition.classify(\n",
    "        images_file,\n",
    "        threshold='0.5',\n",
    "        owners=[\"me\"],\n",
    "        classifier_ids=[\"pictogramas_1871848490\"]).get_result()\n",
    "    print(json.dumps(classes, indent=2))"
   ]
  },
  {
   "cell_type": "markdown",
   "metadata": {},
   "source": [
    "<img src='classes/imagensTeste/4.png'>"
   ]
  },
  {
   "cell_type": "code",
   "execution_count": 24,
   "metadata": {},
   "outputs": [
    {
     "name": "stdout",
     "output_type": "stream",
     "text": [
      "{\n",
      "  \"images\": [\n",
      "    {\n",
      "      \"classifiers\": [\n",
      "        {\n",
      "          \"classifier_id\": \"pictogramas_1871848490\",\n",
      "          \"name\": \"pictogramas\",\n",
      "          \"classes\": [\n",
      "            {\n",
      "              \"class\": \"cuidadoVeneno\",\n",
      "              \"score\": 0.666\n",
      "            },\n",
      "            {\n",
      "              \"class\": \"luvas\",\n",
      "              \"score\": 0.657\n",
      "            }\n",
      "          ]\n",
      "        }\n",
      "      ],\n",
      "      \"image\": \"4.png\"\n",
      "    }\n",
      "  ],\n",
      "  \"images_processed\": 1,\n",
      "  \"custom_classes\": 2\n",
      "}\n"
     ]
    }
   ],
   "source": [
    "with open('classes/imagensTeste/4.png', 'rb') as images_file:\n",
    "    classes = visual_recognition.classify(\n",
    "        images_file,\n",
    "        threshold='0.5',\n",
    "        owners=[\"me\"],\n",
    "        classifier_ids=[\"pictogramas_1871848490\"]).get_result()\n",
    "    print(json.dumps(classes, indent=2))"
   ]
  },
  {
   "cell_type": "markdown",
   "metadata": {},
   "source": [
    "<img src='classes/imagensTeste/5.png'>"
   ]
  },
  {
   "cell_type": "code",
   "execution_count": 25,
   "metadata": {},
   "outputs": [
    {
     "name": "stdout",
     "output_type": "stream",
     "text": [
      "{\n",
      "  \"images\": [\n",
      "    {\n",
      "      \"classifiers\": [\n",
      "        {\n",
      "          \"classifier_id\": \"pictogramas_1871848490\",\n",
      "          \"name\": \"pictogramas\",\n",
      "          \"classes\": [\n",
      "            {\n",
      "              \"class\": \"luvas\",\n",
      "              \"score\": 0.92\n",
      "            }\n",
      "          ]\n",
      "        }\n",
      "      ],\n",
      "      \"image\": \"5.png\"\n",
      "    }\n",
      "  ],\n",
      "  \"images_processed\": 1,\n",
      "  \"custom_classes\": 2\n",
      "}\n"
     ]
    }
   ],
   "source": [
    "with open('classes/imagensTeste/5.png', 'rb') as images_file:\n",
    "    classes = visual_recognition.classify(\n",
    "        images_file,\n",
    "        threshold='0.5',\n",
    "        owners=[\"me\"],\n",
    "        classifier_ids=[\"pictogramas_1871848490\"]).get_result()\n",
    "    print(json.dumps(classes, indent=2))"
   ]
  },
  {
   "cell_type": "markdown",
   "metadata": {},
   "source": [
    "<img src='classes/imagensTeste/6.png'>"
   ]
  },
  {
   "cell_type": "code",
   "execution_count": 26,
   "metadata": {},
   "outputs": [
    {
     "name": "stdout",
     "output_type": "stream",
     "text": [
      "{\n",
      "  \"images\": [\n",
      "    {\n",
      "      \"classifiers\": [\n",
      "        {\n",
      "          \"classifier_id\": \"pictogramas_1871848490\",\n",
      "          \"name\": \"pictogramas\",\n",
      "          \"classes\": [\n",
      "            {\n",
      "              \"class\": \"luvas\",\n",
      "              \"score\": 0.92\n",
      "            }\n",
      "          ]\n",
      "        }\n",
      "      ],\n",
      "      \"image\": \"6.png\"\n",
      "    }\n",
      "  ],\n",
      "  \"images_processed\": 1,\n",
      "  \"custom_classes\": 2\n",
      "}\n"
     ]
    }
   ],
   "source": [
    "with open('classes/imagensTeste/6.png', 'rb') as images_file:\n",
    "    classes = visual_recognition.classify(\n",
    "        images_file,\n",
    "        threshold='0.5',\n",
    "        owners=[\"me\"],\n",
    "        classifier_ids=[\"pictogramas_1871848490\"]).get_result()\n",
    "    print(json.dumps(classes, indent=2))"
   ]
  },
  {
   "cell_type": "markdown",
   "metadata": {},
   "source": [
    "<img src='classes/imagensTeste/7.png'>"
   ]
  },
  {
   "cell_type": "code",
   "execution_count": 27,
   "metadata": {},
   "outputs": [
    {
     "name": "stdout",
     "output_type": "stream",
     "text": [
      "{\n",
      "  \"images\": [\n",
      "    {\n",
      "      \"classifiers\": [\n",
      "        {\n",
      "          \"classifier_id\": \"pictogramas_1871848490\",\n",
      "          \"name\": \"pictogramas\",\n",
      "          \"classes\": [\n",
      "            {\n",
      "              \"class\": \"luvas\",\n",
      "              \"score\": 0.914\n",
      "            }\n",
      "          ]\n",
      "        }\n",
      "      ],\n",
      "      \"image\": \"7.png\"\n",
      "    }\n",
      "  ],\n",
      "  \"images_processed\": 1,\n",
      "  \"custom_classes\": 2\n",
      "}\n"
     ]
    }
   ],
   "source": [
    "with open('classes/imagensTeste/7.png', 'rb') as images_file:\n",
    "    classes = visual_recognition.classify(\n",
    "        images_file,\n",
    "        threshold='0.5',\n",
    "        owners=[\"me\"],\n",
    "        classifier_ids=[\"pictogramas_1871848490\"]).get_result()\n",
    "    print(json.dumps(classes, indent=2))"
   ]
  }
 ],
 "metadata": {
  "kernelspec": {
   "display_name": "Python 3",
   "language": "python",
   "name": "python3"
  },
  "language_info": {
   "codemirror_mode": {
    "name": "ipython",
    "version": 3
   },
   "file_extension": ".py",
   "mimetype": "text/x-python",
   "name": "python",
   "nbconvert_exporter": "python",
   "pygments_lexer": "ipython3",
   "version": "3.6.6"
  }
 },
 "nbformat": 4,
 "nbformat_minor": 2
}
